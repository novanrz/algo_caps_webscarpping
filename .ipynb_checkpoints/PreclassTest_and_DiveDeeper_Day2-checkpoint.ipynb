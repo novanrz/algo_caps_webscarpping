{
 "cells": [
  {
   "cell_type": "code",
   "execution_count": 1,
   "metadata": {},
   "outputs": [],
   "source": [
    "import pandas as pd\n",
    "import sqlite3"
   ]
  },
  {
   "cell_type": "code",
   "execution_count": 2,
   "metadata": {},
   "outputs": [],
   "source": [
    "conn = sqlite3.connect('data_input/chinook.db')"
   ]
  },
  {
   "cell_type": "markdown",
   "metadata": {},
   "source": [
    "# Preclass Day 2\n",
    "\n",
    "1. Buatlah sebuah dataframe yang menampilkan kolom `InvoiceLineId` pada tabel invoice_items, nama track (`Name` simpan sebagai `Song`), nama album (`Name` simpan sebagai `AlbumName`), nama artis (`Name` simpan sebagai `ArtistName`), dan `quantity` dari lagu yang terjual. Lakukanlah agregasi menggunakan `groupby()` untuk menghitung top 5 penjualan lagu terbanyak yang terjual berdasarkan nama artis dan lagunya. (Note : Ralat untuk schema gambar database primary key pada tabel `invoice_items` adalah `InvoiceLineId` bukan `InvoiceItemId`)"
   ]
  },
  {
   "cell_type": "code",
   "execution_count": 1,
   "metadata": {
    "scrolled": true
   },
   "outputs": [],
   "source": [
    "# code here\n",
    "\n",
    "\n",
    "\n",
    "#"
   ]
  },
  {
   "cell_type": "markdown",
   "metadata": {},
   "source": [
    "2. Tampilkan firstname, lastname, id invoice, tanggal transaksi, dan asal negaranya. Ada berapa customer yang melakukan transaksi dari negarara Brazil? (Tip: Gunakan conditional subsetting untuk mengambil customer dari Brazil)\n"
   ]
  },
  {
   "cell_type": "code",
   "execution_count": 1,
   "metadata": {
    "scrolled": true
   },
   "outputs": [],
   "source": [
    "# code here\n",
    "\n",
    "\n",
    "\n",
    "#"
   ]
  },
  {
   "cell_type": "markdown",
   "metadata": {},
   "source": [
    "3. Tampilkan Nama `media_types`, nama album dan nama genre dari tracks yang ada di database. Dengan menggunakan crosstab(), hitung frekuensi penjualan tracks untuk masing-masing jenis media types. Pada media apa penjualan tracks paling banyak? Lengkapi visualisasinya emnggunakan bar plot."
   ]
  },
  {
   "cell_type": "code",
   "execution_count": 1,
   "metadata": {
    "scrolled": true
   },
   "outputs": [],
   "source": [
    "# code here\n",
    "\n",
    "\n",
    "\n",
    "#"
   ]
  },
  {
   "cell_type": "markdown",
   "metadata": {},
   "source": [
    "## Dive Deeper\n",
    "\n",
    "1. Tampilkan 5 `BillingCountry` yang menghasilkan jumlah `Total` penjualan terbesar.\n"
   ]
  },
  {
   "cell_type": "code",
   "execution_count": 1,
   "metadata": {
    "scrolled": true
   },
   "outputs": [],
   "source": [
    "# code here\n",
    "\n",
    "\n",
    "\n",
    "#"
   ]
  },
  {
   "cell_type": "markdown",
   "metadata": {},
   "source": [
    "2. Seorang `employee` dapat melayani beberapa `customer` dalam penjualan musik digital. Tampilkan banyaknya `customer` yang dilayani oleh masing-masing `employee`, kemudian siapakah nama lengkap `employee` yang melayani customer paling banyak?\n"
   ]
  },
  {
   "cell_type": "code",
   "execution_count": 1,
   "metadata": {
    "scrolled": true
   },
   "outputs": [],
   "source": [
    "# code here\n",
    "\n",
    "\n",
    "\n",
    "#"
   ]
  },
  {
   "cell_type": "markdown",
   "metadata": {},
   "source": [
    "3. Tampilkan semua record penjualan pada tabel `invoices` yang dilakukan oleh `employee` untuk `customer` yang berasal dari negara Brazil dan USA. Sertakan `InvoiceId`, `InvoiceDate`, nama lengkap `employee` dan `customer`, `BillingCountry`, `Total` kemudian simpan ke object `sales_BrazilUSA`. Identifikasi ada berapa transaksi yang terjadi?"
   ]
  },
  {
   "cell_type": "code",
   "execution_count": null,
   "metadata": {},
   "outputs": [],
   "source": [
    "# code here\n",
    "\n",
    "\n",
    "\n",
    "#"
   ]
  }
 ],
 "metadata": {
  "kernelspec": {
   "display_name": "Python 3",
   "language": "python",
   "name": "python3"
  },
  "language_info": {
   "codemirror_mode": {
    "name": "ipython",
    "version": 3
   },
   "file_extension": ".py",
   "mimetype": "text/x-python",
   "name": "python",
   "nbconvert_exporter": "python",
   "pygments_lexer": "ipython3",
   "version": "3.7.6"
  },
  "toc": {
   "base_numbering": 1,
   "nav_menu": {},
   "number_sections": true,
   "sideBar": true,
   "skip_h1_title": false,
   "title_cell": "Table of Contents",
   "title_sidebar": "Contents",
   "toc_cell": false,
   "toc_position": {},
   "toc_section_display": true,
   "toc_window_display": false
  }
 },
 "nbformat": 4,
 "nbformat_minor": 2
}
