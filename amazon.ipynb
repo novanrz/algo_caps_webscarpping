{
 "cells": [
  {
   "cell_type": "markdown",
   "metadata": {},
   "source": [
    "## Descriptions\n",
    "\n",
    "This notebook acts as hands-on before you attempt the quiz. There are several questions we have prepared here. \n",
    "Pikc some questions for each category and try to solve them. "
   ]
  },
  {
   "cell_type": "code",
   "execution_count": 102,
   "metadata": {},
   "outputs": [],
   "source": [
    "import pandas as pd "
   ]
  },
  {
   "cell_type": "markdown",
   "metadata": {},
   "source": [
    "# Data preparation\n",
    "Before you go on, you need to prepare the data. Read `amazon-electronic.csv` data and fix them using necessary approach."
   ]
  },
  {
   "cell_type": "code",
   "execution_count": 194,
   "metadata": {},
   "outputs": [],
   "source": [
    "# 1. Read your data \n",
    "amazon = pd.read_csv('data_input/amazon-electronic.csv')"
   ]
  },
  {
   "cell_type": "code",
   "execution_count": 195,
   "metadata": {},
   "outputs": [
    {
     "data": {
      "text/html": [
       "<div>\n",
       "<style scoped>\n",
       "    .dataframe tbody tr th:only-of-type {\n",
       "        vertical-align: middle;\n",
       "    }\n",
       "\n",
       "    .dataframe tbody tr th {\n",
       "        vertical-align: top;\n",
       "    }\n",
       "\n",
       "    .dataframe thead th {\n",
       "        text-align: right;\n",
       "    }\n",
       "</style>\n",
       "<table border=\"1\" class=\"dataframe\">\n",
       "  <thead>\n",
       "    <tr style=\"text-align: right;\">\n",
       "      <th></th>\n",
       "      <th>id</th>\n",
       "      <th>product_id</th>\n",
       "      <th>date</th>\n",
       "      <th>categories</th>\n",
       "      <th>brand</th>\n",
       "      <th>name</th>\n",
       "      <th>merchant</th>\n",
       "      <th>quantity</th>\n",
       "      <th>unit_price</th>\n",
       "    </tr>\n",
       "  </thead>\n",
       "  <tbody>\n",
       "    <tr>\n",
       "      <th>0</th>\n",
       "      <td>1</td>\n",
       "      <td>44342</td>\n",
       "      <td>2017-03-02</td>\n",
       "      <td>Camera &amp; Photo</td>\n",
       "      <td>Panasonic</td>\n",
       "      <td>Lumix G 25mm f/1.7 ASPH. Lens</td>\n",
       "      <td>Bestbuy.com</td>\n",
       "      <td>1</td>\n",
       "      <td>USD201,99</td>\n",
       "    </tr>\n",
       "    <tr>\n",
       "      <th>1</th>\n",
       "      <td>2</td>\n",
       "      <td>46876</td>\n",
       "      <td>2017-03-02</td>\n",
       "      <td>Camera &amp; Photo</td>\n",
       "      <td>Sony</td>\n",
       "      <td>Cyber-shot DSC-WX220 Digital Camera (Black)</td>\n",
       "      <td>Bestbuy.com</td>\n",
       "      <td>1</td>\n",
       "      <td>USD159,99</td>\n",
       "    </tr>\n",
       "    <tr>\n",
       "      <th>2</th>\n",
       "      <td>3</td>\n",
       "      <td>12136</td>\n",
       "      <td>2017-03-02</td>\n",
       "      <td>Camera &amp; Photo</td>\n",
       "      <td>Sony</td>\n",
       "      <td>Sony - BC-TRX Battery Charger - Black</td>\n",
       "      <td>Bestbuy.com</td>\n",
       "      <td>1</td>\n",
       "      <td>USD26,99</td>\n",
       "    </tr>\n",
       "    <tr>\n",
       "      <th>3</th>\n",
       "      <td>6</td>\n",
       "      <td>79238</td>\n",
       "      <td>2017-03-03</td>\n",
       "      <td>Accessories &amp; Supplies</td>\n",
       "      <td>Insignia</td>\n",
       "      <td>Insignia - Fixed TV Wall Mount For Most 40-70\"...</td>\n",
       "      <td>Bestbuy.com</td>\n",
       "      <td>1</td>\n",
       "      <td>USD56,99</td>\n",
       "    </tr>\n",
       "    <tr>\n",
       "      <th>4</th>\n",
       "      <td>7</td>\n",
       "      <td>46643</td>\n",
       "      <td>2017-03-03</td>\n",
       "      <td>Camera &amp; Photo</td>\n",
       "      <td>Sony</td>\n",
       "      <td>Cyber-shot DSC-RX100 V Digital Camera</td>\n",
       "      <td>Bestbuy.com</td>\n",
       "      <td>1</td>\n",
       "      <td>USD849,99</td>\n",
       "    </tr>\n",
       "  </tbody>\n",
       "</table>\n",
       "</div>"
      ],
      "text/plain": [
       "   id  product_id        date              categories      brand  \\\n",
       "0   1       44342  2017-03-02          Camera & Photo  Panasonic   \n",
       "1   2       46876  2017-03-02          Camera & Photo       Sony   \n",
       "2   3       12136  2017-03-02          Camera & Photo       Sony   \n",
       "3   6       79238  2017-03-03  Accessories & Supplies   Insignia   \n",
       "4   7       46643  2017-03-03          Camera & Photo       Sony   \n",
       "\n",
       "                                                name     merchant  quantity  \\\n",
       "0                      Lumix G 25mm f/1.7 ASPH. Lens  Bestbuy.com         1   \n",
       "1        Cyber-shot DSC-WX220 Digital Camera (Black)  Bestbuy.com         1   \n",
       "2              Sony - BC-TRX Battery Charger - Black  Bestbuy.com         1   \n",
       "3  Insignia - Fixed TV Wall Mount For Most 40-70\"...  Bestbuy.com         1   \n",
       "4              Cyber-shot DSC-RX100 V Digital Camera  Bestbuy.com         1   \n",
       "\n",
       "  unit_price  \n",
       "0  USD201,99  \n",
       "1  USD159,99  \n",
       "2   USD26,99  \n",
       "3   USD56,99  \n",
       "4  USD849,99  "
      ]
     },
     "execution_count": 195,
     "metadata": {},
     "output_type": "execute_result"
    }
   ],
   "source": [
    "# 2.1 Peek first 3 row of you data \n",
    "amazon.head()"
   ]
  },
  {
   "cell_type": "code",
   "execution_count": 105,
   "metadata": {},
   "outputs": [
    {
     "data": {
      "text/plain": [
       "id             int64\n",
       "product_id     int64\n",
       "date          object\n",
       "categories    object\n",
       "brand         object\n",
       "name          object\n",
       "merchant      object\n",
       "quantity       int64\n",
       "unit_price    object\n",
       "dtype: object"
      ]
     },
     "execution_count": 105,
     "metadata": {},
     "output_type": "execute_result"
    }
   ],
   "source": [
    "# 2.2 Inspect your data types\n",
    "amazon.dtypes"
   ]
  },
  {
   "cell_type": "code",
   "execution_count": 218,
   "metadata": {},
   "outputs": [],
   "source": [
    "# 3. Fix all datetime columns if any\n",
    "amazon['date'] = pd.to_datetime(amazon['date'])"
   ]
  },
  {
   "cell_type": "code",
   "execution_count": 227,
   "metadata": {},
   "outputs": [
    {
     "data": {
      "text/plain": [
       "id                     int64\n",
       "product_id             int64\n",
       "date          datetime64[ns]\n",
       "categories            object\n",
       "brand                 object\n",
       "name                  object\n",
       "merchant              object\n",
       "quantity               int64\n",
       "unit_price           float64\n",
       "dtype: object"
      ]
     },
     "execution_count": 227,
     "metadata": {},
     "output_type": "execute_result"
    }
   ],
   "source": [
    "amazon.dtypes"
   ]
  },
  {
   "cell_type": "markdown",
   "metadata": {},
   "source": [
    "<!-- \n",
    "amazon['date'] = pd.to_datetime(amazon['date'])\n",
    "-->"
   ]
  },
  {
   "cell_type": "code",
   "execution_count": 107,
   "metadata": {},
   "outputs": [],
   "source": [
    "# 4. Fix all Categorical data if any"
   ]
  },
  {
   "cell_type": "markdown",
   "metadata": {},
   "source": [
    "<!--\n",
    "amazon[['categories', 'brand', 'merchant']] = amazon[['categories', 'brand', 'merchant']].astype('category')\n",
    "-->"
   ]
  },
  {
   "cell_type": "code",
   "execution_count": 224,
   "metadata": {},
   "outputs": [],
   "source": [
    "# 5. Fix all missing values / duplicates if any"
   ]
  },
  {
   "cell_type": "markdown",
   "metadata": {},
   "source": [
    "<!--\n",
    "amazon = amazon.dropna().drop_duplicates()\n",
    "-->"
   ]
  },
  {
   "cell_type": "code",
   "execution_count": 228,
   "metadata": {},
   "outputs": [
    {
     "data": {
      "text/html": [
       "<div>\n",
       "<style scoped>\n",
       "    .dataframe tbody tr th:only-of-type {\n",
       "        vertical-align: middle;\n",
       "    }\n",
       "\n",
       "    .dataframe tbody tr th {\n",
       "        vertical-align: top;\n",
       "    }\n",
       "\n",
       "    .dataframe thead th {\n",
       "        text-align: right;\n",
       "    }\n",
       "</style>\n",
       "<table border=\"1\" class=\"dataframe\">\n",
       "  <thead>\n",
       "    <tr style=\"text-align: right;\">\n",
       "      <th></th>\n",
       "      <th>id</th>\n",
       "      <th>product_id</th>\n",
       "      <th>date</th>\n",
       "      <th>categories</th>\n",
       "      <th>brand</th>\n",
       "      <th>name</th>\n",
       "      <th>merchant</th>\n",
       "      <th>quantity</th>\n",
       "      <th>unit_price</th>\n",
       "    </tr>\n",
       "  </thead>\n",
       "  <tbody>\n",
       "    <tr>\n",
       "      <th>0</th>\n",
       "      <td>1</td>\n",
       "      <td>44342</td>\n",
       "      <td>2017-03-02</td>\n",
       "      <td>Camera &amp; Photo</td>\n",
       "      <td>Panasonic</td>\n",
       "      <td>Lumix G 25mm f/1.7 ASPH. Lens</td>\n",
       "      <td>Bestbuy.com</td>\n",
       "      <td>1</td>\n",
       "      <td>201.99</td>\n",
       "    </tr>\n",
       "    <tr>\n",
       "      <th>1</th>\n",
       "      <td>2</td>\n",
       "      <td>46876</td>\n",
       "      <td>2017-03-02</td>\n",
       "      <td>Camera &amp; Photo</td>\n",
       "      <td>Sony</td>\n",
       "      <td>Cyber-shot DSC-WX220 Digital Camera (Black)</td>\n",
       "      <td>Bestbuy.com</td>\n",
       "      <td>1</td>\n",
       "      <td>159.99</td>\n",
       "    </tr>\n",
       "    <tr>\n",
       "      <th>2</th>\n",
       "      <td>3</td>\n",
       "      <td>12136</td>\n",
       "      <td>2017-03-02</td>\n",
       "      <td>Camera &amp; Photo</td>\n",
       "      <td>Sony</td>\n",
       "      <td>Sony - BC-TRX Battery Charger - Black</td>\n",
       "      <td>Bestbuy.com</td>\n",
       "      <td>1</td>\n",
       "      <td>26.99</td>\n",
       "    </tr>\n",
       "    <tr>\n",
       "      <th>3</th>\n",
       "      <td>6</td>\n",
       "      <td>79238</td>\n",
       "      <td>2017-03-03</td>\n",
       "      <td>Accessories &amp; Supplies</td>\n",
       "      <td>Insignia</td>\n",
       "      <td>Insignia - Fixed TV Wall Mount For Most 40-70\"...</td>\n",
       "      <td>Bestbuy.com</td>\n",
       "      <td>1</td>\n",
       "      <td>56.99</td>\n",
       "    </tr>\n",
       "    <tr>\n",
       "      <th>4</th>\n",
       "      <td>7</td>\n",
       "      <td>46643</td>\n",
       "      <td>2017-03-03</td>\n",
       "      <td>Camera &amp; Photo</td>\n",
       "      <td>Sony</td>\n",
       "      <td>Cyber-shot DSC-RX100 V Digital Camera</td>\n",
       "      <td>Bestbuy.com</td>\n",
       "      <td>1</td>\n",
       "      <td>849.99</td>\n",
       "    </tr>\n",
       "  </tbody>\n",
       "</table>\n",
       "</div>"
      ],
      "text/plain": [
       "   id  product_id       date              categories      brand  \\\n",
       "0   1       44342 2017-03-02          Camera & Photo  Panasonic   \n",
       "1   2       46876 2017-03-02          Camera & Photo       Sony   \n",
       "2   3       12136 2017-03-02          Camera & Photo       Sony   \n",
       "3   6       79238 2017-03-03  Accessories & Supplies   Insignia   \n",
       "4   7       46643 2017-03-03          Camera & Photo       Sony   \n",
       "\n",
       "                                                name     merchant  quantity  \\\n",
       "0                      Lumix G 25mm f/1.7 ASPH. Lens  Bestbuy.com         1   \n",
       "1        Cyber-shot DSC-WX220 Digital Camera (Black)  Bestbuy.com         1   \n",
       "2              Sony - BC-TRX Battery Charger - Black  Bestbuy.com         1   \n",
       "3  Insignia - Fixed TV Wall Mount For Most 40-70\"...  Bestbuy.com         1   \n",
       "4              Cyber-shot DSC-RX100 V Digital Camera  Bestbuy.com         1   \n",
       "\n",
       "   unit_price  \n",
       "0      201.99  \n",
       "1      159.99  \n",
       "2       26.99  \n",
       "3       56.99  \n",
       "4      849.99  "
      ]
     },
     "execution_count": 228,
     "metadata": {},
     "output_type": "execute_result"
    }
   ],
   "source": [
    "amazon.head()"
   ]
  },
  {
   "cell_type": "code",
   "execution_count": 226,
   "metadata": {},
   "outputs": [],
   "source": [
    "# 6. Fix  the unit price value\n",
    "\n",
    "# change `USD` to ``\n",
    "amazon['unit_price'] = amazon['unit_price'].str.replace('USD', '')\n",
    "\n",
    "# change `,` to `.`\n",
    "amazon['unit_price'] = amazon['unit_price'].str.replace(',', '.')\n",
    "\n",
    "# change the data types to the most appropriate\n",
    "amazon['unit_price'] = amazon['unit_price'].astype(float)"
   ]
  },
  {
   "cell_type": "markdown",
   "metadata": {},
   "source": [
    "Make sure your first 5 rows looks like this \n",
    "\n",
    "|    |   id |   product_id | date       | categories             | brand     | name                                                                     | merchant    |   quantity |   unit_price |\n",
    "|---:|-----:|-------------:|:-----------|:-----------------------|:----------|:-------------------------------------------------------------------------|:------------|-----------:|-------------:|\n",
    "|  0 |    1 |        44342 | 2017-03-02 | Camera & Photo         | Panasonic | Lumix G 25mm f/1.7 ASPH. Lens                                            | Bestbuy.com |          1 |       201.99 |\n",
    "|  1 |    2 |        46876 | 2017-03-02 | Camera & Photo         | Sony      | Cyber-shot DSC-WX220 Digital Camera (Black)                              | Bestbuy.com |          1 |       159.99 |\n",
    "|  2 |    3 |        12136 | 2017-03-02 | Camera & Photo         | Sony      | Sony - BC-TRX Battery Charger - Black                                    | Bestbuy.com |          1 |        26.99 |\n",
    "|  3 |    6 |        79238 | 2017-03-03 | Accessories & Supplies | Insignia  | Insignia - Fixed TV Wall Mount For Most 40-70\"\" TVs - Black NS-HTVMF0C\"\" | Bestbuy.com |          1 |        56.99 |\n",
    "|  4 |    7 |        46643 | 2017-03-03 | Camera & Photo         | Sony      | Cyber-shot DSC-RX100 V Digital Camera                                    | Bestbuy.com |          1 |       849.99 |"
   ]
  },
  {
   "cell_type": "code",
   "execution_count": null,
   "metadata": {},
   "outputs": [],
   "source": []
  },
  {
   "cell_type": "markdown",
   "metadata": {},
   "source": [
    "## 1. Bestbuy Competitor\n",
    "\n",
    "Bestbuy (known as `Bestbuy.com`), as one of the largest store in amazon is inspecting the market. Help them to see how other stores. \n",
    "\n",
    "But first, create a new dataframe that exclude Bestbuy from the observations. "
   ]
  },
  {
   "cell_type": "code",
   "execution_count": 138,
   "metadata": {},
   "outputs": [],
   "source": [
    "## Fill the missing code \n",
    "df = amazon.copy()\n",
    "df['revenue'] = df['quantity'] * df['unit_price']\n",
    "non_bestbuy = df[df['merchant'] != 'Bestbuy.com']"
   ]
  },
  {
   "cell_type": "markdown",
   "metadata": {},
   "source": [
    "### QUESTION 1\n",
    "\n",
    "What is top 5 competitor that has biggest revenue (sum of their quantity \\* unit_price) ? Use groupby to wrangle the data to find the answer\n",
    "\n",
    "<!--\n",
    "df['revenue'] = df['quantity'] * df['unit_price']\n",
    "non_bestbuy = df[df['merchant'] != 'Bestbuy.com']\n",
    "x = non_bestbuy.groupby('merchant').agg({\n",
    "    'revenue' : 'sum'\n",
    "}).sort_values(by='revenue', ascending=False)\n",
    "-->"
   ]
  },
  {
   "cell_type": "code",
   "execution_count": 232,
   "metadata": {},
   "outputs": [
    {
     "data": {
      "text/html": [
       "<div>\n",
       "<style scoped>\n",
       "    .dataframe tbody tr th:only-of-type {\n",
       "        vertical-align: middle;\n",
       "    }\n",
       "\n",
       "    .dataframe tbody tr th {\n",
       "        vertical-align: top;\n",
       "    }\n",
       "\n",
       "    .dataframe thead th {\n",
       "        text-align: right;\n",
       "    }\n",
       "</style>\n",
       "<table border=\"1\" class=\"dataframe\">\n",
       "  <thead>\n",
       "    <tr style=\"text-align: right;\">\n",
       "      <th></th>\n",
       "      <th>revenue</th>\n",
       "    </tr>\n",
       "    <tr>\n",
       "      <th>merchant</th>\n",
       "      <th></th>\n",
       "    </tr>\n",
       "  </thead>\n",
       "  <tbody>\n",
       "    <tr>\n",
       "      <th>bhphotovideo.com</th>\n",
       "      <td>680478.02</td>\n",
       "    </tr>\n",
       "    <tr>\n",
       "      <th>Walmart.com</th>\n",
       "      <td>156398.50</td>\n",
       "    </tr>\n",
       "    <tr>\n",
       "      <th>Beach Camera</th>\n",
       "      <td>109862.75</td>\n",
       "    </tr>\n",
       "    <tr>\n",
       "      <th>The Pixel Hub</th>\n",
       "      <td>19190.00</td>\n",
       "    </tr>\n",
       "    <tr>\n",
       "      <th>Focus Camera</th>\n",
       "      <td>17271.00</td>\n",
       "    </tr>\n",
       "    <tr>\n",
       "      <th>Alto Music</th>\n",
       "      <td>11514.00</td>\n",
       "    </tr>\n",
       "  </tbody>\n",
       "</table>\n",
       "</div>"
      ],
      "text/plain": [
       "                    revenue\n",
       "merchant                   \n",
       "bhphotovideo.com  680478.02\n",
       "Walmart.com       156398.50\n",
       "Beach Camera      109862.75\n",
       "The Pixel Hub      19190.00\n",
       "Focus Camera       17271.00\n",
       "Alto Music         11514.00"
      ]
     },
     "execution_count": 232,
     "metadata": {},
     "output_type": "execute_result"
    }
   ],
   "source": [
    "## Code for Aggregation\n",
    "# Wenny \n",
    "cond = df[df['merchant'] != 'Bestbuy.com'] #subseting\n",
    "df_merchant = cond[['merchant','revenue']] \n",
    "\n",
    "merchant = df_merchant.groupby('merchant').sum().sort_values('revenue', ascending = False)\n",
    "merchant"
   ]
  },
  {
   "cell_type": "code",
   "execution_count": 236,
   "metadata": {},
   "outputs": [],
   "source": [
    "# Dina\n",
    "vis1 = non_bestbuy.groupby('merchant').agg({\n",
    "    'revenue': 'sum'\n",
    "}).sort_values('revenue', ascending=False)"
   ]
  },
  {
   "cell_type": "code",
   "execution_count": 237,
   "metadata": {},
   "outputs": [
    {
     "data": {
      "text/html": [
       "<div>\n",
       "<style scoped>\n",
       "    .dataframe tbody tr th:only-of-type {\n",
       "        vertical-align: middle;\n",
       "    }\n",
       "\n",
       "    .dataframe tbody tr th {\n",
       "        vertical-align: top;\n",
       "    }\n",
       "\n",
       "    .dataframe thead th {\n",
       "        text-align: right;\n",
       "    }\n",
       "</style>\n",
       "<table border=\"1\" class=\"dataframe\">\n",
       "  <thead>\n",
       "    <tr style=\"text-align: right;\">\n",
       "      <th></th>\n",
       "      <th>revenue</th>\n",
       "    </tr>\n",
       "    <tr>\n",
       "      <th>merchant</th>\n",
       "      <th></th>\n",
       "    </tr>\n",
       "  </thead>\n",
       "  <tbody>\n",
       "    <tr>\n",
       "      <th>bhphotovideo.com</th>\n",
       "      <td>680478.02</td>\n",
       "    </tr>\n",
       "    <tr>\n",
       "      <th>Walmart.com</th>\n",
       "      <td>156398.50</td>\n",
       "    </tr>\n",
       "    <tr>\n",
       "      <th>Beach Camera</th>\n",
       "      <td>109862.75</td>\n",
       "    </tr>\n",
       "    <tr>\n",
       "      <th>The Pixel Hub</th>\n",
       "      <td>19190.00</td>\n",
       "    </tr>\n",
       "    <tr>\n",
       "      <th>Focus Camera</th>\n",
       "      <td>17271.00</td>\n",
       "    </tr>\n",
       "    <tr>\n",
       "      <th>Alto Music</th>\n",
       "      <td>11514.00</td>\n",
       "    </tr>\n",
       "  </tbody>\n",
       "</table>\n",
       "</div>"
      ],
      "text/plain": [
       "                    revenue\n",
       "merchant                   \n",
       "bhphotovideo.com  680478.02\n",
       "Walmart.com       156398.50\n",
       "Beach Camera      109862.75\n",
       "The Pixel Hub      19190.00\n",
       "Focus Camera       17271.00\n",
       "Alto Music         11514.00"
      ]
     },
     "execution_count": 237,
     "metadata": {},
     "output_type": "execute_result"
    }
   ],
   "source": [
    "vis1"
   ]
  },
  {
   "cell_type": "markdown",
   "metadata": {},
   "source": [
    "Make sure your answer looks like this"
   ]
  },
  {
   "cell_type": "markdown",
   "metadata": {},
   "source": [
    "| merchant         |   revenue |\n",
    "|:-----------------|----------:|\n",
    "| bhphotovideo.com |    680478 |\n",
    "| Walmart.com      |    156398 |\n",
    "| Beach Camera     |    109863 |\n",
    "| The Pixel Hub    |     19190 |\n",
    "| Focus Camera     |     17271 |\n",
    "| Alto Music       |     11514 |"
   ]
  },
  {
   "cell_type": "markdown",
   "metadata": {},
   "source": [
    "Visualize the result in the most appropriate style !"
   ]
  },
  {
   "cell_type": "code",
   "execution_count": 238,
   "metadata": {},
   "outputs": [
    {
     "data": {
      "text/plain": [
       "<matplotlib.axes._subplots.AxesSubplot at 0x124963dc0>"
      ]
     },
     "execution_count": 238,
     "metadata": {},
     "output_type": "execute_result"
    },
    {
     "data": {
      "image/png": "[encoded data removed]",
      "text/plain": [
       "<Figure size 432x288 with 1 Axes>"
      ]
     },
     "metadata": {
      "needs_background": "light"
     },
     "output_type": "display_data"
    }
   ],
   "source": [
    "## Code for visualization\n",
    "vis1.plot.bar()"
   ]
  },
  {
   "cell_type": "markdown",
   "metadata": {},
   "source": [
    "### QUESTION 2"
   ]
  },
  {
   "cell_type": "markdown",
   "metadata": {},
   "source": [
    "What is Bestbuy strong and weak against, compared to other merchant in the data? \n",
    "\n",
    "In order to asnwer this question I've created a guide to answer (There exist another way to find the answer, too)"
   ]
  },
  {
   "cell_type": "code",
   "execution_count": 239,
   "metadata": {},
   "outputs": [],
   "source": [
    "# subset only bestbuy observations\n",
    "bestbuy = df[df['merchant'] == 'Bestbuy.com']"
   ]
  },
  {
   "cell_type": "code",
   "execution_count": 240,
   "metadata": {},
   "outputs": [
    {
     "data": {
      "text/plain": [
       "<matplotlib.axes._subplots.AxesSubplot at 0x12497b940>"
      ]
     },
     "execution_count": 240,
     "metadata": {},
     "output_type": "execute_result"
    },
    {
     "data": {
      "image/png": "[encoded data removed]",
      "text/plain": [
       "<Figure size 432x288 with 1 Axes>"
      ]
     },
     "metadata": {
      "needs_background": "light"
     },
     "output_type": "display_data"
    }
   ],
   "source": [
    "# plotting the bestbuy market basket\n",
    "bestbuy.groupby('categories').agg({'revenue' : 'sum'}).plot.bar(stacked=True, legend=True)"
   ]
  },
  {
   "cell_type": "markdown",
   "metadata": {},
   "source": [
    "Using `non_bestbuy`, use aggregation table to create table like this and save it as `non_bestbuy_agg`: \n",
    "\n",
    "Notes: Each values is representation of the sum of revenue for each categories and merchant\n",
    "\n",
    "\n",
    "| categories                |   Alto Music |   Beach Camera |   Focus Camera |   The Pixel Hub |   Walmart.com |   bhphotovideo.com |\n",
    "|:--------------------------|-------------:|---------------:|---------------:|----------------:|--------------:|-------------------:|\n",
    "| Accessories & Supplies    |          nan |          nan   |         nan    |          nan    |       2398.75 |            1909.86 |\n",
    "| Camera & Photo            |          nan |        11034.2 |        8635.5  |        18710.2  |       3838    |          196148    |\n",
    "| Car & Vehicle Electronics |          nan |          nan   |         nan    |          nan    |       7676    |             nan    |\n",
    "| Computers & Accessories   |          nan |         1919   |         nan    |          479.75 |      16791.2  |           85108.9  |\n",
    "| Headphones                |        11514 |         8635.5 |        6236.75 |          nan    |       3838    |           23343.5  |\n",
    "| Home Audio                |          nan |         6716.5 |        1919    |          nan    |      12953.2  |           82407.1  |\n",
    "| Portable Audio & Video    |          nan |          nan   |         nan    |          nan    |        nan    |            5235.95 |\n",
    "| TV & Video                |          nan |        81557.5 |         479.75 |          nan    |     108903    |          286325    |\n",
    "\n",
    "\n",
    "<!--\n",
    "\n",
    "non_bestbuy_agg = non_bestbuy.pivot_table(\n",
    "    index='categories',\n",
    "    columns='merchant',\n",
    "    values='revenue', \n",
    "    aggfunc='sum'\n",
    ")\n",
    "\n",
    "-->\n"
   ]
  },
  {
   "cell_type": "code",
   "execution_count": 241,
   "metadata": {},
   "outputs": [],
   "source": [
    "non_bestbuy_agg = non_bestbuy.pivot_table(\n",
    "    index='categories',\n",
    "    columns='merchant',\n",
    "    values='revenue', \n",
    "    aggfunc='sum'\n",
    ")\n"
   ]
  },
  {
   "cell_type": "markdown",
   "metadata": {},
   "source": [
    "Plot the `non_bestbuy_agg` using the following code and try to compare the distribution with Bestbuy"
   ]
  },
  {
   "cell_type": "code",
   "execution_count": 244,
   "metadata": {},
   "outputs": [
    {
     "data": {
      "text/plain": [
       "<matplotlib.axes._subplots.AxesSubplot at 0x124de9b50>"
      ]
     },
     "execution_count": 244,
     "metadata": {},
     "output_type": "execute_result"
    },
    {
     "data": {
      "image/png": "[encoded data removed]",
      "text/plain": [
       "<Figure size 432x288 with 1 Axes>"
      ]
     },
     "metadata": {
      "needs_background": "light"
     },
     "output_type": "display_data"
    }
   ],
   "source": [
    "non_bestbuy_agg.plot.bar(stacked=True, legend=False)"
   ]
  },
  {
   "cell_type": "markdown",
   "metadata": {},
   "source": [
    "### QUESTION 3"
   ]
  },
  {
   "cell_type": "markdown",
   "metadata": {},
   "source": [
    "What product contributes the most to the total revenue for each categories in Bestbuy ? "
   ]
  },
  {
   "cell_type": "code",
   "execution_count": 249,
   "metadata": {},
   "outputs": [
    {
     "data": {
      "text/html": [
       "<div>\n",
       "<style scoped>\n",
       "    .dataframe tbody tr th:only-of-type {\n",
       "        vertical-align: middle;\n",
       "    }\n",
       "\n",
       "    .dataframe tbody tr th {\n",
       "        vertical-align: top;\n",
       "    }\n",
       "\n",
       "    .dataframe thead th {\n",
       "        text-align: right;\n",
       "    }\n",
       "</style>\n",
       "<table border=\"1\" class=\"dataframe\">\n",
       "  <thead>\n",
       "    <tr style=\"text-align: right;\">\n",
       "      <th>brand</th>\n",
       "      <th>ASUS</th>\n",
       "      <th>Alienware</th>\n",
       "      <th>Alpine</th>\n",
       "      <th>Apple</th>\n",
       "      <th>Canon</th>\n",
       "      <th>Dell</th>\n",
       "      <th>Denon</th>\n",
       "      <th>Elite Screens</th>\n",
       "      <th>Insignia</th>\n",
       "      <th>Kenwood</th>\n",
       "      <th>...</th>\n",
       "      <th>Microsoft</th>\n",
       "      <th>Olympus</th>\n",
       "      <th>Onkyo</th>\n",
       "      <th>Panasonic</th>\n",
       "      <th>Pioneer</th>\n",
       "      <th>Razer</th>\n",
       "      <th>Samsung</th>\n",
       "      <th>SanDisk</th>\n",
       "      <th>Sony</th>\n",
       "      <th>Yamaha</th>\n",
       "    </tr>\n",
       "    <tr>\n",
       "      <th>categories</th>\n",
       "      <th></th>\n",
       "      <th></th>\n",
       "      <th></th>\n",
       "      <th></th>\n",
       "      <th></th>\n",
       "      <th></th>\n",
       "      <th></th>\n",
       "      <th></th>\n",
       "      <th></th>\n",
       "      <th></th>\n",
       "      <th></th>\n",
       "      <th></th>\n",
       "      <th></th>\n",
       "      <th></th>\n",
       "      <th></th>\n",
       "      <th></th>\n",
       "      <th></th>\n",
       "      <th></th>\n",
       "      <th></th>\n",
       "      <th></th>\n",
       "      <th></th>\n",
       "    </tr>\n",
       "  </thead>\n",
       "  <tbody>\n",
       "    <tr>\n",
       "      <th>Accessories &amp; Supplies</th>\n",
       "      <td>NaN</td>\n",
       "      <td>NaN</td>\n",
       "      <td>NaN</td>\n",
       "      <td>NaN</td>\n",
       "      <td>NaN</td>\n",
       "      <td>NaN</td>\n",
       "      <td>NaN</td>\n",
       "      <td>4686.84</td>\n",
       "      <td>869.83</td>\n",
       "      <td>NaN</td>\n",
       "      <td>...</td>\n",
       "      <td>NaN</td>\n",
       "      <td>NaN</td>\n",
       "      <td>NaN</td>\n",
       "      <td>NaN</td>\n",
       "      <td>NaN</td>\n",
       "      <td>NaN</td>\n",
       "      <td>NaN</td>\n",
       "      <td>NaN</td>\n",
       "      <td>NaN</td>\n",
       "      <td>NaN</td>\n",
       "    </tr>\n",
       "    <tr>\n",
       "      <th>Camera &amp; Photo</th>\n",
       "      <td>NaN</td>\n",
       "      <td>NaN</td>\n",
       "      <td>NaN</td>\n",
       "      <td>995.83</td>\n",
       "      <td>2249.97</td>\n",
       "      <td>NaN</td>\n",
       "      <td>NaN</td>\n",
       "      <td>NaN</td>\n",
       "      <td>NaN</td>\n",
       "      <td>NaN</td>\n",
       "      <td>...</td>\n",
       "      <td>NaN</td>\n",
       "      <td>389.99</td>\n",
       "      <td>NaN</td>\n",
       "      <td>6206.85</td>\n",
       "      <td>NaN</td>\n",
       "      <td>NaN</td>\n",
       "      <td>627.96</td>\n",
       "      <td>29.99</td>\n",
       "      <td>27765.43</td>\n",
       "      <td>757.94</td>\n",
       "    </tr>\n",
       "    <tr>\n",
       "      <th>Car &amp; Vehicle Electronics</th>\n",
       "      <td>NaN</td>\n",
       "      <td>NaN</td>\n",
       "      <td>8604.03</td>\n",
       "      <td>NaN</td>\n",
       "      <td>NaN</td>\n",
       "      <td>NaN</td>\n",
       "      <td>NaN</td>\n",
       "      <td>NaN</td>\n",
       "      <td>NaN</td>\n",
       "      <td>15828.18</td>\n",
       "      <td>...</td>\n",
       "      <td>NaN</td>\n",
       "      <td>NaN</td>\n",
       "      <td>NaN</td>\n",
       "      <td>NaN</td>\n",
       "      <td>3491.65</td>\n",
       "      <td>NaN</td>\n",
       "      <td>NaN</td>\n",
       "      <td>NaN</td>\n",
       "      <td>2964.92</td>\n",
       "      <td>NaN</td>\n",
       "    </tr>\n",
       "    <tr>\n",
       "      <th>Computers &amp; Accessories</th>\n",
       "      <td>30940.64</td>\n",
       "      <td>49617.64</td>\n",
       "      <td>NaN</td>\n",
       "      <td>195864.71</td>\n",
       "      <td>NaN</td>\n",
       "      <td>31346.53</td>\n",
       "      <td>NaN</td>\n",
       "      <td>NaN</td>\n",
       "      <td>962.81</td>\n",
       "      <td>NaN</td>\n",
       "      <td>...</td>\n",
       "      <td>2615.76</td>\n",
       "      <td>NaN</td>\n",
       "      <td>NaN</td>\n",
       "      <td>NaN</td>\n",
       "      <td>NaN</td>\n",
       "      <td>74238.72</td>\n",
       "      <td>904.96</td>\n",
       "      <td>579.96</td>\n",
       "      <td>1799.98</td>\n",
       "      <td>NaN</td>\n",
       "    </tr>\n",
       "    <tr>\n",
       "      <th>Headphones</th>\n",
       "      <td>NaN</td>\n",
       "      <td>NaN</td>\n",
       "      <td>NaN</td>\n",
       "      <td>NaN</td>\n",
       "      <td>NaN</td>\n",
       "      <td>NaN</td>\n",
       "      <td>NaN</td>\n",
       "      <td>NaN</td>\n",
       "      <td>654.83</td>\n",
       "      <td>NaN</td>\n",
       "      <td>...</td>\n",
       "      <td>NaN</td>\n",
       "      <td>NaN</td>\n",
       "      <td>NaN</td>\n",
       "      <td>NaN</td>\n",
       "      <td>NaN</td>\n",
       "      <td>NaN</td>\n",
       "      <td>63.99</td>\n",
       "      <td>29.99</td>\n",
       "      <td>2494.83</td>\n",
       "      <td>NaN</td>\n",
       "    </tr>\n",
       "    <tr>\n",
       "      <th>Home Audio</th>\n",
       "      <td>NaN</td>\n",
       "      <td>NaN</td>\n",
       "      <td>NaN</td>\n",
       "      <td>NaN</td>\n",
       "      <td>NaN</td>\n",
       "      <td>NaN</td>\n",
       "      <td>3725.81</td>\n",
       "      <td>NaN</td>\n",
       "      <td>NaN</td>\n",
       "      <td>303.96</td>\n",
       "      <td>...</td>\n",
       "      <td>NaN</td>\n",
       "      <td>NaN</td>\n",
       "      <td>13586.67</td>\n",
       "      <td>NaN</td>\n",
       "      <td>21284.66</td>\n",
       "      <td>192.99</td>\n",
       "      <td>4341.83</td>\n",
       "      <td>NaN</td>\n",
       "      <td>30427.18</td>\n",
       "      <td>27194.90</td>\n",
       "    </tr>\n",
       "    <tr>\n",
       "      <th>Portable Audio &amp; Video</th>\n",
       "      <td>NaN</td>\n",
       "      <td>NaN</td>\n",
       "      <td>NaN</td>\n",
       "      <td>5519.84</td>\n",
       "      <td>NaN</td>\n",
       "      <td>NaN</td>\n",
       "      <td>NaN</td>\n",
       "      <td>NaN</td>\n",
       "      <td>NaN</td>\n",
       "      <td>NaN</td>\n",
       "      <td>...</td>\n",
       "      <td>NaN</td>\n",
       "      <td>NaN</td>\n",
       "      <td>NaN</td>\n",
       "      <td>NaN</td>\n",
       "      <td>NaN</td>\n",
       "      <td>NaN</td>\n",
       "      <td>NaN</td>\n",
       "      <td>29.99</td>\n",
       "      <td>NaN</td>\n",
       "      <td>NaN</td>\n",
       "    </tr>\n",
       "    <tr>\n",
       "      <th>TV &amp; Video</th>\n",
       "      <td>NaN</td>\n",
       "      <td>NaN</td>\n",
       "      <td>NaN</td>\n",
       "      <td>NaN</td>\n",
       "      <td>NaN</td>\n",
       "      <td>NaN</td>\n",
       "      <td>NaN</td>\n",
       "      <td>415.98</td>\n",
       "      <td>NaN</td>\n",
       "      <td>NaN</td>\n",
       "      <td>...</td>\n",
       "      <td>NaN</td>\n",
       "      <td>NaN</td>\n",
       "      <td>NaN</td>\n",
       "      <td>NaN</td>\n",
       "      <td>NaN</td>\n",
       "      <td>NaN</td>\n",
       "      <td>55856.39</td>\n",
       "      <td>NaN</td>\n",
       "      <td>39118.76</td>\n",
       "      <td>NaN</td>\n",
       "    </tr>\n",
       "  </tbody>\n",
       "</table>\n",
       "<p>8 rows × 22 columns</p>\n",
       "</div>"
      ],
      "text/plain": [
       "brand                          ASUS  Alienware   Alpine      Apple    Canon  \\\n",
       "categories                                                                    \n",
       "Accessories & Supplies          NaN        NaN      NaN        NaN      NaN   \n",
       "Camera & Photo                  NaN        NaN      NaN     995.83  2249.97   \n",
       "Car & Vehicle Electronics       NaN        NaN  8604.03        NaN      NaN   \n",
       "Computers & Accessories    30940.64   49617.64      NaN  195864.71      NaN   \n",
       "Headphones                      NaN        NaN      NaN        NaN      NaN   \n",
       "Home Audio                      NaN        NaN      NaN        NaN      NaN   \n",
       "Portable Audio & Video          NaN        NaN      NaN    5519.84      NaN   \n",
       "TV & Video                      NaN        NaN      NaN        NaN      NaN   \n",
       "\n",
       "brand                          Dell    Denon  Elite Screens  Insignia  \\\n",
       "categories                                                              \n",
       "Accessories & Supplies          NaN      NaN        4686.84    869.83   \n",
       "Camera & Photo                  NaN      NaN            NaN       NaN   \n",
       "Car & Vehicle Electronics       NaN      NaN            NaN       NaN   \n",
       "Computers & Accessories    31346.53      NaN            NaN    962.81   \n",
       "Headphones                      NaN      NaN            NaN    654.83   \n",
       "Home Audio                      NaN  3725.81            NaN       NaN   \n",
       "Portable Audio & Video          NaN      NaN            NaN       NaN   \n",
       "TV & Video                      NaN      NaN         415.98       NaN   \n",
       "\n",
       "brand                       Kenwood  ...  Microsoft  Olympus     Onkyo  \\\n",
       "categories                           ...                                 \n",
       "Accessories & Supplies          NaN  ...        NaN      NaN       NaN   \n",
       "Camera & Photo                  NaN  ...        NaN   389.99       NaN   \n",
       "Car & Vehicle Electronics  15828.18  ...        NaN      NaN       NaN   \n",
       "Computers & Accessories         NaN  ...    2615.76      NaN       NaN   \n",
       "Headphones                      NaN  ...        NaN      NaN       NaN   \n",
       "Home Audio                   303.96  ...        NaN      NaN  13586.67   \n",
       "Portable Audio & Video          NaN  ...        NaN      NaN       NaN   \n",
       "TV & Video                      NaN  ...        NaN      NaN       NaN   \n",
       "\n",
       "brand                      Panasonic   Pioneer     Razer   Samsung  SanDisk  \\\n",
       "categories                                                                    \n",
       "Accessories & Supplies           NaN       NaN       NaN       NaN      NaN   \n",
       "Camera & Photo               6206.85       NaN       NaN    627.96    29.99   \n",
       "Car & Vehicle Electronics        NaN   3491.65       NaN       NaN      NaN   \n",
       "Computers & Accessories          NaN       NaN  74238.72    904.96   579.96   \n",
       "Headphones                       NaN       NaN       NaN     63.99    29.99   \n",
       "Home Audio                       NaN  21284.66    192.99   4341.83      NaN   \n",
       "Portable Audio & Video           NaN       NaN       NaN       NaN    29.99   \n",
       "TV & Video                       NaN       NaN       NaN  55856.39      NaN   \n",
       "\n",
       "brand                          Sony    Yamaha  \n",
       "categories                                     \n",
       "Accessories & Supplies          NaN       NaN  \n",
       "Camera & Photo             27765.43    757.94  \n",
       "Car & Vehicle Electronics   2964.92       NaN  \n",
       "Computers & Accessories     1799.98       NaN  \n",
       "Headphones                  2494.83       NaN  \n",
       "Home Audio                 30427.18  27194.90  \n",
       "Portable Audio & Video          NaN       NaN  \n",
       "TV & Video                 39118.76       NaN  \n",
       "\n",
       "[8 rows x 22 columns]"
      ]
     },
     "execution_count": 249,
     "metadata": {},
     "output_type": "execute_result"
    }
   ],
   "source": [
    "bestbuy.pivot_table(\n",
    "    index='categories',\n",
    "    columns='brand',\n",
    "    \n",
    "    values='revenue',\n",
    "    aggfunc='sum'\n",
    ")"
   ]
  },
  {
   "cell_type": "code",
   "execution_count": 254,
   "metadata": {},
   "outputs": [
    {
     "data": {
      "text/plain": [
       "categories\n",
       "Accessories & Supplies       Elite Screens\n",
       "Camera & Photo                        Sony\n",
       "Car & Vehicle Electronics          Kenwood\n",
       "Computers & Accessories              Apple\n",
       "Headphones                            Sony\n",
       "Home Audio                            Sony\n",
       "Portable Audio & Video               Apple\n",
       "TV & Video                         Samsung\n",
       "dtype: object"
      ]
     },
     "execution_count": 254,
     "metadata": {},
     "output_type": "execute_result"
    }
   ],
   "source": [
    "bestbuy.pivot_table(\n",
    "    index='categories',\n",
    "    columns='brand',\n",
    "    \n",
    "    values='revenue',\n",
    "    aggfunc='sum'\n",
    ").idxmax(axis=1)"
   ]
  },
  {
   "cell_type": "code",
   "execution_count": null,
   "metadata": {},
   "outputs": [],
   "source": []
  }
 ],
 "metadata": {
  "kernelspec": {
   "display_name": "Python 3",
   "language": "python",
   "name": "python3"
  },
  "language_info": {
   "codemirror_mode": {
    "name": "ipython",
    "version": 3
   },
   "file_extension": ".py",
   "mimetype": "text/x-python",
   "name": "python",
   "nbconvert_exporter": "python",
   "pygments_lexer": "ipython3",
   "version": "3.7.6"
  },
  "toc": {
   "base_numbering": 1,
   "nav_menu": {},
   "number_sections": true,
   "sideBar": true,
   "skip_h1_title": false,
   "title_cell": "Table of Contents",
   "title_sidebar": "Contents",
   "toc_cell": false,
   "toc_position": {},
   "toc_section_display": true,
   "toc_window_display": false
  }
 },
 "nbformat": 4,
 "nbformat_minor": 4
}
