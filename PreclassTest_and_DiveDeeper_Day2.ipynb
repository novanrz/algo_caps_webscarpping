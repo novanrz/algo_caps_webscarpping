{
 "cells": [
  {
   "cell_type": "code",
   "execution_count": 1,
   "metadata": {},
   "outputs": [],
   "source": [
    "import pandas as pd\n",
    "import sqlite3"
   ]
  },
  {
   "cell_type": "code",
   "execution_count": 2,
   "metadata": {},
   "outputs": [],
   "source": [
    "conn = sqlite3.connect('data_input/chinook.db')"
   ]
  },
  {
   "cell_type": "markdown",
   "metadata": {},
   "source": [
    "# Preclass Day 2\n",
    "\n",
    "1. Buatlah sebuah dataframe yang menampilkan kolom `InvoiceLineId` pada tabel invoice_items, nama track (`Name` simpan sebagai `Song`), nama album (`Name` simpan sebagai `AlbumName`), nama artis (`Name` simpan sebagai `ArtistName`), dan `quantity` dari lagu yang terjual. Lakukanlah agregasi menggunakan `groupby()` untuk menghitung top 5 penjualan lagu terbanyak yang terjual berdasarkan nama artis dan lagunya. (Note : Ralat untuk schema gambar database primary key pada tabel `invoice_items` adalah `InvoiceLineId` bukan `InvoiceItemId`)"
   ]
  },
  {
   "cell_type": "code",
   "execution_count": 12,
   "metadata": {
    "scrolled": true
   },
   "outputs": [
    {
     "data": {
      "text/html": [
       "<div>\n",
       "<style scoped>\n",
       "    .dataframe tbody tr th:only-of-type {\n",
       "        vertical-align: middle;\n",
       "    }\n",
       "\n",
       "    .dataframe tbody tr th {\n",
       "        vertical-align: top;\n",
       "    }\n",
       "\n",
       "    .dataframe thead th {\n",
       "        text-align: right;\n",
       "    }\n",
       "</style>\n",
       "<table border=\"1\" class=\"dataframe\">\n",
       "  <thead>\n",
       "    <tr style=\"text-align: right;\">\n",
       "      <th></th>\n",
       "      <th>Name</th>\n",
       "      <th>Title</th>\n",
       "      <th>Name</th>\n",
       "      <th>Quantity</th>\n",
       "    </tr>\n",
       "    <tr>\n",
       "      <th>InvoiceLineId</th>\n",
       "      <th></th>\n",
       "      <th></th>\n",
       "      <th></th>\n",
       "      <th></th>\n",
       "    </tr>\n",
       "  </thead>\n",
       "  <tbody>\n",
       "    <tr>\n",
       "      <th>579.0</th>\n",
       "      <td>For Those About To Rock (We Salute You)</td>\n",
       "      <td>For Those About To Rock We Salute You</td>\n",
       "      <td>AC/DC</td>\n",
       "      <td>1.0</td>\n",
       "    </tr>\n",
       "    <tr>\n",
       "      <th>1.0</th>\n",
       "      <td>Balls to the Wall</td>\n",
       "      <td>Balls to the Wall</td>\n",
       "      <td>Accept</td>\n",
       "      <td>1.0</td>\n",
       "    </tr>\n",
       "    <tr>\n",
       "      <th>1154.0</th>\n",
       "      <td>Balls to the Wall</td>\n",
       "      <td>Balls to the Wall</td>\n",
       "      <td>Accept</td>\n",
       "      <td>1.0</td>\n",
       "    </tr>\n",
       "    <tr>\n",
       "      <th>1728.0</th>\n",
       "      <td>Fast As a Shark</td>\n",
       "      <td>Restless and Wild</td>\n",
       "      <td>Accept</td>\n",
       "      <td>1.0</td>\n",
       "    </tr>\n",
       "    <tr>\n",
       "      <th>2.0</th>\n",
       "      <td>Restless and Wild</td>\n",
       "      <td>Restless and Wild</td>\n",
       "      <td>Accept</td>\n",
       "      <td>1.0</td>\n",
       "    </tr>\n",
       "  </tbody>\n",
       "</table>\n",
       "</div>"
      ],
      "text/plain": [
       "                                                  Name  \\\n",
       "InvoiceLineId                                            \n",
       "579.0          For Those About To Rock (We Salute You)   \n",
       "1.0                                  Balls to the Wall   \n",
       "1154.0                               Balls to the Wall   \n",
       "1728.0                                 Fast As a Shark   \n",
       "2.0                                  Restless and Wild   \n",
       "\n",
       "                                               Title    Name  Quantity  \n",
       "InvoiceLineId                                                           \n",
       "579.0          For Those About To Rock We Salute You   AC/DC       1.0  \n",
       "1.0                                Balls to the Wall  Accept       1.0  \n",
       "1154.0                             Balls to the Wall  Accept       1.0  \n",
       "1728.0                             Restless and Wild  Accept       1.0  \n",
       "2.0                                Restless and Wild  Accept       1.0  "
      ]
     },
     "execution_count": 12,
     "metadata": {},
     "output_type": "execute_result"
    }
   ],
   "source": [
    "# code here\n",
    "inv = pd.read_sql_query(\"SELECT invoice_items.InvoiceLineId, tracks.Name, alb.Title, art.Name, invoice_items.Quantity \\\n",
    "                           FROM TRACKS \\\n",
    "                           LEFT JOIN albums as alb ON tracks.Albumid = alb.Albumid \\\n",
    "                           LEFT JOIN invoice_items ON tracks.TrackId = invoice_items.TrackId \\\n",
    "                           LEFT JOIN artists as art ON alb.ArtistId = art.ArtistId\",\n",
    "                           conn, index_col='InvoiceLineId')\n",
    "inv.head()\n",
    "\n",
    "#"
   ]
  },
  {
   "cell_type": "code",
   "execution_count": 36,
   "metadata": {
    "scrolled": true
   },
   "outputs": [
    {
     "data": {
      "text/html": [
       "<div>\n",
       "<style scoped>\n",
       "    .dataframe tbody tr th:only-of-type {\n",
       "        vertical-align: middle;\n",
       "    }\n",
       "\n",
       "    .dataframe tbody tr th {\n",
       "        vertical-align: top;\n",
       "    }\n",
       "\n",
       "    .dataframe thead th {\n",
       "        text-align: right;\n",
       "    }\n",
       "</style>\n",
       "<table border=\"1\" class=\"dataframe\">\n",
       "  <thead>\n",
       "    <tr style=\"text-align: right;\">\n",
       "      <th></th>\n",
       "      <th>InvoiceLineId</th>\n",
       "      <th>Song</th>\n",
       "      <th>AlbumName</th>\n",
       "      <th>ArtistName</th>\n",
       "      <th>Quantity</th>\n",
       "    </tr>\n",
       "  </thead>\n",
       "  <tbody>\n",
       "    <tr>\n",
       "      <th>0</th>\n",
       "      <td>1</td>\n",
       "      <td>Balls to the Wall</td>\n",
       "      <td>Balls to the Wall</td>\n",
       "      <td>Accept</td>\n",
       "      <td>1</td>\n",
       "    </tr>\n",
       "    <tr>\n",
       "      <th>1</th>\n",
       "      <td>2</td>\n",
       "      <td>Restless and Wild</td>\n",
       "      <td>Restless and Wild</td>\n",
       "      <td>Accept</td>\n",
       "      <td>1</td>\n",
       "    </tr>\n",
       "    <tr>\n",
       "      <th>2</th>\n",
       "      <td>3</td>\n",
       "      <td>Put The Finger On You</td>\n",
       "      <td>For Those About To Rock We Salute You</td>\n",
       "      <td>AC/DC</td>\n",
       "      <td>1</td>\n",
       "    </tr>\n",
       "    <tr>\n",
       "      <th>3</th>\n",
       "      <td>4</td>\n",
       "      <td>Inject The Venom</td>\n",
       "      <td>For Those About To Rock We Salute You</td>\n",
       "      <td>AC/DC</td>\n",
       "      <td>1</td>\n",
       "    </tr>\n",
       "    <tr>\n",
       "      <th>4</th>\n",
       "      <td>5</td>\n",
       "      <td>Evil Walks</td>\n",
       "      <td>For Those About To Rock We Salute You</td>\n",
       "      <td>AC/DC</td>\n",
       "      <td>1</td>\n",
       "    </tr>\n",
       "  </tbody>\n",
       "</table>\n",
       "</div>"
      ],
      "text/plain": [
       "   InvoiceLineId                   Song  \\\n",
       "0              1      Balls to the Wall   \n",
       "1              2      Restless and Wild   \n",
       "2              3  Put The Finger On You   \n",
       "3              4       Inject The Venom   \n",
       "4              5             Evil Walks   \n",
       "\n",
       "                               AlbumName ArtistName  Quantity  \n",
       "0                      Balls to the Wall     Accept         1  \n",
       "1                      Restless and Wild     Accept         1  \n",
       "2  For Those About To Rock We Salute You      AC/DC         1  \n",
       "3  For Those About To Rock We Salute You      AC/DC         1  \n",
       "4  For Those About To Rock We Salute You      AC/DC         1  "
      ]
     },
     "execution_count": 36,
     "metadata": {},
     "output_type": "execute_result"
    }
   ],
   "source": [
    "# code here\n",
    "\n",
    "invoice = pd.read_sql_query('''\n",
    "SELECT InvoiceLineId, t.Name as Song, alb.Title as AlbumName, art.Name as ArtistName, Quantity\n",
    "FROM invoice_items as invt\n",
    "LEFT JOIN tracks as t\n",
    "ON t.TrackId = invt.TrackId\n",
    "LEFT JOIN albums as alb\n",
    "ON alb.AlbumId = t.AlbumId\n",
    "LEFT JOIN artists as art\n",
    "ON art.ArtistId = alb.ArtistId\n",
    "''', conn)\n",
    "invoice.head()\n",
    "\n",
    "\n",
    "\n",
    "#"
   ]
  },
  {
   "cell_type": "code",
   "execution_count": 21,
   "metadata": {
    "scrolled": true
   },
   "outputs": [
    {
     "data": {
      "text/html": [
       "<div>\n",
       "<style scoped>\n",
       "    .dataframe tbody tr th:only-of-type {\n",
       "        vertical-align: middle;\n",
       "    }\n",
       "\n",
       "    .dataframe tbody tr th {\n",
       "        vertical-align: top;\n",
       "    }\n",
       "\n",
       "    .dataframe thead th {\n",
       "        text-align: right;\n",
       "    }\n",
       "</style>\n",
       "<table border=\"1\" class=\"dataframe\">\n",
       "  <thead>\n",
       "    <tr style=\"text-align: right;\">\n",
       "      <th></th>\n",
       "      <th>InvoiceLineId</th>\n",
       "      <th>Song</th>\n",
       "      <th>AlbumName</th>\n",
       "      <th>ArtistName</th>\n",
       "      <th>Quantity</th>\n",
       "    </tr>\n",
       "  </thead>\n",
       "  <tbody>\n",
       "    <tr>\n",
       "      <th>0</th>\n",
       "      <td>1</td>\n",
       "      <td>Balls to the Wall</td>\n",
       "      <td>Balls to the Wall</td>\n",
       "      <td>Accept</td>\n",
       "      <td>1</td>\n",
       "    </tr>\n",
       "    <tr>\n",
       "      <th>1</th>\n",
       "      <td>2</td>\n",
       "      <td>Restless and Wild</td>\n",
       "      <td>Restless and Wild</td>\n",
       "      <td>Accept</td>\n",
       "      <td>1</td>\n",
       "    </tr>\n",
       "    <tr>\n",
       "      <th>2</th>\n",
       "      <td>3</td>\n",
       "      <td>Put The Finger On You</td>\n",
       "      <td>For Those About To Rock We Salute You</td>\n",
       "      <td>AC/DC</td>\n",
       "      <td>1</td>\n",
       "    </tr>\n",
       "    <tr>\n",
       "      <th>3</th>\n",
       "      <td>4</td>\n",
       "      <td>Inject The Venom</td>\n",
       "      <td>For Those About To Rock We Salute You</td>\n",
       "      <td>AC/DC</td>\n",
       "      <td>1</td>\n",
       "    </tr>\n",
       "    <tr>\n",
       "      <th>4</th>\n",
       "      <td>5</td>\n",
       "      <td>Evil Walks</td>\n",
       "      <td>For Those About To Rock We Salute You</td>\n",
       "      <td>AC/DC</td>\n",
       "      <td>1</td>\n",
       "    </tr>\n",
       "  </tbody>\n",
       "</table>\n",
       "</div>"
      ],
      "text/plain": [
       "   InvoiceLineId                   Song  \\\n",
       "0              1      Balls to the Wall   \n",
       "1              2      Restless and Wild   \n",
       "2              3  Put The Finger On You   \n",
       "3              4       Inject The Venom   \n",
       "4              5             Evil Walks   \n",
       "\n",
       "                               AlbumName ArtistName  Quantity  \n",
       "0                      Balls to the Wall     Accept         1  \n",
       "1                      Restless and Wild     Accept         1  \n",
       "2  For Those About To Rock We Salute You      AC/DC         1  \n",
       "3  For Those About To Rock We Salute You      AC/DC         1  \n",
       "4  For Those About To Rock We Salute You      AC/DC         1  "
      ]
     },
     "execution_count": 21,
     "metadata": {},
     "output_type": "execute_result"
    }
   ],
   "source": [
    "# code here\n",
    "invoice = pd.read_sql_query(\"SELECT a.InvoiceLineId, \\\n",
    "                            b.Name as Song, \\\n",
    "                            c.Title as AlbumName, \\\n",
    "                            d.Name as ArtistName,\\\n",
    "                            Quantity\\\n",
    "                            from invoice_items as a left join tracks as b \\\n",
    "                            on b.TrackId = a.TrackId left join albums as c \\\n",
    "                            ON  b.AlbumId = c.AlbumId left join artists as d \\\n",
    "                            ON c.ArtistId = d.ArtistId\", conn)\n",
    "invoice.head()\n",
    "\n",
    "\n",
    "\n",
    "#"
   ]
  },
  {
   "cell_type": "markdown",
   "metadata": {},
   "source": [
    "2. Tampilkan firstname, lastname, id invoice, tanggal transaksi, dan asal negaranya. Ada berapa customer yang melakukan transaksi dari negarara Brazil? (Tip: Gunakan conditional subsetting untuk mengambil customer dari Brazil)\n"
   ]
  },
  {
   "cell_type": "code",
   "execution_count": 30,
   "metadata": {
    "scrolled": true
   },
   "outputs": [
    {
     "data": {
      "text/plain": [
       "35"
      ]
     },
     "execution_count": 30,
     "metadata": {},
     "output_type": "execute_result"
    }
   ],
   "source": [
    "# code here\n",
    "\n",
    "new4 = pd.read_sql_query(\"SELECT customers.firstname, \\\n",
    "                  customers.lastname, \\\n",
    "                  invoices.invoiceid, \\\n",
    "                  invoices.invoicedate, \\\n",
    "                  invoices.billingcountry \\\n",
    "                  FROM customers \\\n",
    "                  LEFT JOIN invoices \\\n",
    "                  ON invoices.customerid = customers.customerid\"\n",
    "                  , conn, index_col=\"InvoiceId\")\n",
    "new4[new4['BillingCountry']=='Brazil'].shape[0]\n",
    "\n",
    "#"
   ]
  },
  {
   "cell_type": "code",
   "execution_count": 23,
   "metadata": {
    "scrolled": true
   },
   "outputs": [
    {
     "data": {
      "text/plain": [
       "190"
      ]
     },
     "execution_count": 23,
     "metadata": {},
     "output_type": "execute_result"
    }
   ],
   "source": [
    "# code here\n",
    "\n",
    "#"
   ]
  },
  {
   "cell_type": "markdown",
   "metadata": {},
   "source": [
    "3. Tampilkan Nama `media_types`, nama album dan nama genre dari tracks yang ada di database. Dengan menggunakan crosstab(), hitung frekuensi penjualan tracks untuk masing-masing jenis media types. Pada media apa penjualan tracks paling banyak? Lengkapi visualisasinya emnggunakan bar plot."
   ]
  },
  {
   "cell_type": "code",
   "execution_count": 35,
   "metadata": {
    "scrolled": true
   },
   "outputs": [
    {
     "data": {
      "text/plain": [
       "<matplotlib.axes._subplots.AxesSubplot at 0x21876b82ac8>"
      ]
     },
     "execution_count": 35,
     "metadata": {},
     "output_type": "execute_result"
    },
    {
     "data": {
      "image/png": "[encoded data removed]",
      "text/plain": [
       "<Figure size 432x288 with 1 Axes>"
      ]
     },
     "metadata": {
      "needs_background": "light"
     },
     "output_type": "display_data"
    }
   ],
   "source": [
    "# code here\n",
    "media_types = pd.read_sql_query(\"SELECT M.Name as MediaName, A.Title as AlbumName, G.Name as GenreName \\\n",
    "FROM tracks as T \\\n",
    "LEFT JOIN media_types as M ON M.MediaTypeId = T.MediaTypeId \\\n",
    "LEFT JOIN albums as A ON A.AlbumId = T.AlbumId \\\n",
    "LEFT JOIN genres as G ON G.GenreId = T.GenreId\", conn)\n",
    "\n",
    "med = media_types.pivot_table(index='MediaName',\n",
    "                        values='AlbumName',\n",
    "                        aggfunc='count').sort_values('AlbumName', ascending=False)\n",
    "med.plot(kind='bar')\n",
    "\n",
    "\n",
    "\n",
    "\n",
    "#"
   ]
  },
  {
   "cell_type": "markdown",
   "metadata": {},
   "source": [
    "## Dive Deeper\n",
    "\n",
    "1. Tampilkan 5 `BillingCountry` yang menghasilkan jumlah `Total` penjualan terbesar.\n"
   ]
  },
  {
   "cell_type": "code",
   "execution_count": null,
   "metadata": {
    "scrolled": true
   },
   "outputs": [],
   "source": [
    "# code here\n",
    "pd.read_sql_query('select invoices.billingcountry as BillingCountry, \\\n",
    "                   sum(invoices.total) as Total\\\n",
    "                   from invoices\\\n",
    "                   group by BillingCountry\\\n",
    "                   order by Total desc\\\n",
    "                   limit 5', conn, index_col = 'BillingCountry')\n",
    "\n",
    "\n",
    "\n",
    "#"
   ]
  },
  {
   "cell_type": "markdown",
   "metadata": {},
   "source": [
    "2. Seorang `employee` dapat melayani beberapa `customer` dalam penjualan musik digital. Tampilkan banyaknya `customer` yang dilayani oleh masing-masing `employee`, kemudian siapakah nama lengkap `employee` yang melayani customer paling banyak?\n"
   ]
  },
  {
   "cell_type": "code",
   "execution_count": 1,
   "metadata": {
    "scrolled": true
   },
   "outputs": [],
   "source": [
    "# code here\n",
    "\n",
    "\n",
    "\n",
    "#"
   ]
  },
  {
   "cell_type": "markdown",
   "metadata": {},
   "source": [
    "3. Tampilkan semua record penjualan pada tabel `invoices` yang dilakukan oleh `employee` untuk `customer` yang berasal dari negara Brazil dan USA. Sertakan `InvoiceId`, `InvoiceDate`, nama lengkap `employee` dan `customer`, `BillingCountry`, `Total` kemudian simpan ke object `sales_BrazilUSA`. Identifikasi ada berapa transaksi yang terjadi?"
   ]
  },
  {
   "cell_type": "code",
   "execution_count": null,
   "metadata": {},
   "outputs": [],
   "source": [
    "# code here\n",
    "\n",
    "\n",
    "\n",
    "#"
   ]
  }
 ],
 "metadata": {
  "kernelspec": {
   "display_name": "Python 3",
   "language": "python",
   "name": "python3"
  },
  "language_info": {
   "codemirror_mode": {
    "name": "ipython",
    "version": 3
   },
   "file_extension": ".py",
   "mimetype": "text/x-python",
   "name": "python",
   "nbconvert_exporter": "python",
   "pygments_lexer": "ipython3",
   "version": "3.7.6"
  },
  "toc": {
   "base_numbering": 1,
   "nav_menu": {},
   "number_sections": true,
   "sideBar": true,
   "skip_h1_title": false,
   "title_cell": "Table of Contents",
   "title_sidebar": "Contents",
   "toc_cell": false,
   "toc_position": {},
   "toc_section_display": true,
   "toc_window_display": false
  }
 },
 "nbformat": 4,
 "nbformat_minor": 2
}
