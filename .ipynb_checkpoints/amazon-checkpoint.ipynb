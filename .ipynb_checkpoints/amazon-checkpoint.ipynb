{
 "cells": [
  {
   "cell_type": "markdown",
   "metadata": {},
   "source": [
    "## Descriptions\n",
    "\n",
    "This notebook acts as hands-on before you attempt the quiz. There are several questions we have prepared here. \n",
    "Pikc some questions for each category and try to solve them. "
   ]
  },
  {
   "cell_type": "code",
   "execution_count": 102,
   "metadata": {},
   "outputs": [],
   "source": [
    "import pandas as pd "
   ]
  },
  {
   "cell_type": "markdown",
   "metadata": {},
   "source": [
    "# Data preparation\n",
    "Before you go on, you need to prepare the data. Read `amazon-electronic.csv` data and fix them using necessary approach."
   ]
  },
  {
   "cell_type": "code",
   "execution_count": 187,
   "metadata": {},
   "outputs": [],
   "source": [
    "# 1. Read your data \n",
    "amazon = pd.read_csv('data_input/amazon-electronic.csv')"
   ]
  },
  {
   "cell_type": "code",
   "execution_count": 188,
   "metadata": {},
   "outputs": [
    {
     "data": {
      "text/html": [
       "<div>\n",
       "<style scoped>\n",
       "    .dataframe tbody tr th:only-of-type {\n",
       "        vertical-align: middle;\n",
       "    }\n",
       "\n",
       "    .dataframe tbody tr th {\n",
       "        vertical-align: top;\n",
       "    }\n",
       "\n",
       "    .dataframe thead th {\n",
       "        text-align: right;\n",
       "    }\n",
       "</style>\n",
       "<table border=\"1\" class=\"dataframe\">\n",
       "  <thead>\n",
       "    <tr style=\"text-align: right;\">\n",
       "      <th></th>\n",
       "      <th>id</th>\n",
       "      <th>product_id</th>\n",
       "      <th>date</th>\n",
       "      <th>categories</th>\n",
       "      <th>brand</th>\n",
       "      <th>name</th>\n",
       "      <th>merchant</th>\n",
       "      <th>quantity</th>\n",
       "      <th>unit_price</th>\n",
       "    </tr>\n",
       "  </thead>\n",
       "  <tbody>\n",
       "    <tr>\n",
       "      <th>0</th>\n",
       "      <td>1</td>\n",
       "      <td>44342</td>\n",
       "      <td>2017-03-02</td>\n",
       "      <td>Camera &amp; Photo</td>\n",
       "      <td>Panasonic</td>\n",
       "      <td>Lumix G 25mm f/1.7 ASPH. Lens</td>\n",
       "      <td>Bestbuy.com</td>\n",
       "      <td>1</td>\n",
       "      <td>USD201,99</td>\n",
       "    </tr>\n",
       "    <tr>\n",
       "      <th>1</th>\n",
       "      <td>2</td>\n",
       "      <td>46876</td>\n",
       "      <td>2017-03-02</td>\n",
       "      <td>Camera &amp; Photo</td>\n",
       "      <td>Sony</td>\n",
       "      <td>Cyber-shot DSC-WX220 Digital Camera (Black)</td>\n",
       "      <td>Bestbuy.com</td>\n",
       "      <td>1</td>\n",
       "      <td>USD159,99</td>\n",
       "    </tr>\n",
       "    <tr>\n",
       "      <th>2</th>\n",
       "      <td>3</td>\n",
       "      <td>12136</td>\n",
       "      <td>2017-03-02</td>\n",
       "      <td>Camera &amp; Photo</td>\n",
       "      <td>Sony</td>\n",
       "      <td>Sony - BC-TRX Battery Charger - Black</td>\n",
       "      <td>Bestbuy.com</td>\n",
       "      <td>1</td>\n",
       "      <td>USD26,99</td>\n",
       "    </tr>\n",
       "  </tbody>\n",
       "</table>\n",
       "</div>"
      ],
      "text/plain": [
       "   id  product_id        date      categories      brand  \\\n",
       "0   1       44342  2017-03-02  Camera & Photo  Panasonic   \n",
       "1   2       46876  2017-03-02  Camera & Photo       Sony   \n",
       "2   3       12136  2017-03-02  Camera & Photo       Sony   \n",
       "\n",
       "                                          name     merchant  quantity  \\\n",
       "0                Lumix G 25mm f/1.7 ASPH. Lens  Bestbuy.com         1   \n",
       "1  Cyber-shot DSC-WX220 Digital Camera (Black)  Bestbuy.com         1   \n",
       "2        Sony - BC-TRX Battery Charger - Black  Bestbuy.com         1   \n",
       "\n",
       "  unit_price  \n",
       "0  USD201,99  \n",
       "1  USD159,99  \n",
       "2   USD26,99  "
      ]
     },
     "execution_count": 188,
     "metadata": {},
     "output_type": "execute_result"
    }
   ],
   "source": [
    "# 2.1 Peek first 3 row of you data \n",
    "amazon.head(3)"
   ]
  },
  {
   "cell_type": "code",
   "execution_count": 105,
   "metadata": {},
   "outputs": [
    {
     "data": {
      "text/plain": [
       "id             int64\n",
       "product_id     int64\n",
       "date          object\n",
       "categories    object\n",
       "brand         object\n",
       "name          object\n",
       "merchant      object\n",
       "quantity       int64\n",
       "unit_price    object\n",
       "dtype: object"
      ]
     },
     "execution_count": 105,
     "metadata": {},
     "output_type": "execute_result"
    }
   ],
   "source": [
    "# 2.2 Inspect your data types\n",
    "amazon.dtypes"
   ]
  },
  {
   "cell_type": "code",
   "execution_count": 106,
   "metadata": {},
   "outputs": [],
   "source": [
    "# 3. Fix all datetime columns if any\n",
    "amazon['date'] = ???"
   ]
  },
  {
   "cell_type": "markdown",
   "metadata": {},
   "source": [
    "<!-- \n",
    "amazon['date'] = pd.to_datetime(amazon['date'])\n",
    "-->"
   ]
  },
  {
   "cell_type": "code",
   "execution_count": 107,
   "metadata": {},
   "outputs": [],
   "source": [
    "# 4. Fix all Categorical data if any"
   ]
  },
  {
   "cell_type": "markdown",
   "metadata": {},
   "source": [
    "<!--\n",
    "amazon[['categories', 'brand', 'merchant']] = amazon[['categories', 'brand', 'merchant']].astype('category')\n",
    "-->"
   ]
  },
  {
   "cell_type": "code",
   "execution_count": 108,
   "metadata": {},
   "outputs": [],
   "source": [
    "# 5. Fix all missing values / duplicates if any"
   ]
  },
  {
   "cell_type": "markdown",
   "metadata": {},
   "source": [
    "<!--\n",
    "amazon = amazon.dropna().drop_duplicates()\n",
    "-->"
   ]
  },
  {
   "cell_type": "code",
   "execution_count": 193,
   "metadata": {},
   "outputs": [],
   "source": [
    "# 6. Fix  the unit price value\n",
    "\n",
    "# change `USD` to ``\n",
    "amazon['unit_price'] = amazon['unit_price'].str.replace('???', '')\n",
    "\n",
    "# change `,` to `.`\n",
    "amazon['unit_price'] = amazon['unit_price'].str.replace('???', '.')\n",
    "\n",
    "# change the data types to the most appropriate\n",
    "amazon['unit_price'] = amazon['unit_price'].astype(float)"
   ]
  },
  {
   "cell_type": "markdown",
   "metadata": {},
   "source": [
    "Make sure your first 5 rows looks like this \n",
    "\n",
    "|    |   id |   product_id | date       | categories             | brand     | name                                                                     | merchant    |   quantity |   unit_price |\n",
    "|---:|-----:|-------------:|:-----------|:-----------------------|:----------|:-------------------------------------------------------------------------|:------------|-----------:|-------------:|\n",
    "|  0 |    1 |        44342 | 2017-03-02 | Camera & Photo         | Panasonic | Lumix G 25mm f/1.7 ASPH. Lens                                            | Bestbuy.com |          1 |       201.99 |\n",
    "|  1 |    2 |        46876 | 2017-03-02 | Camera & Photo         | Sony      | Cyber-shot DSC-WX220 Digital Camera (Black)                              | Bestbuy.com |          1 |       159.99 |\n",
    "|  2 |    3 |        12136 | 2017-03-02 | Camera & Photo         | Sony      | Sony - BC-TRX Battery Charger - Black                                    | Bestbuy.com |          1 |        26.99 |\n",
    "|  3 |    6 |        79238 | 2017-03-03 | Accessories & Supplies | Insignia  | Insignia - Fixed TV Wall Mount For Most 40-70\"\" TVs - Black NS-HTVMF0C\"\" | Bestbuy.com |          1 |        56.99 |\n",
    "|  4 |    7 |        46643 | 2017-03-03 | Camera & Photo         | Sony      | Cyber-shot DSC-RX100 V Digital Camera                                    | Bestbuy.com |          1 |       849.99 |"
   ]
  },
  {
   "cell_type": "markdown",
   "metadata": {},
   "source": [
    "## 1. Bestbuy Competitor\n",
    "\n",
    "Bestbuy (known as `Bestbuy.com`), as one of the largest store in amazon is inspecting the market. Help them to see how other stores. \n",
    "\n",
    "But first, create a new dataframe that exclude Bestbuy from the observations. "
   ]
  },
  {
   "cell_type": "code",
   "execution_count": 138,
   "metadata": {},
   "outputs": [],
   "source": [
    "## Fill the missing code \n",
    "df = amazon.copy()\n",
    "df['revenue'] = df['quantity'] * df['unit_price']\n",
    "non_bestbuy = df[df['merchant'] != 'Bestbuy.com']"
   ]
  },
  {
   "cell_type": "markdown",
   "metadata": {},
   "source": [
    "### QUESTION 1\n",
    "\n",
    "What is top 5 competitor that has biggest revenue (sum of their quantity \\* unit_price) ? Use groupby to wrangle the data to find the answer\n",
    "\n",
    "<!--\n",
    "df['revenue'] = df['quantity'] * df['unit_price']\n",
    "non_bestbuy = df[df['merchant'] != 'Bestbuy.com']\n",
    "x = non_bestbuy.groupby('merchant').agg({\n",
    "    'revenue' : 'sum'\n",
    "}).sort_values(by='revenue', ascending=False)\n",
    "-->"
   ]
  },
  {
   "cell_type": "code",
   "execution_count": 139,
   "metadata": {},
   "outputs": [],
   "source": [
    "## Code for Aggregation"
   ]
  },
  {
   "cell_type": "markdown",
   "metadata": {},
   "source": [
    "Make sure your answer looks like this"
   ]
  },
  {
   "cell_type": "markdown",
   "metadata": {},
   "source": [
    "| merchant         |   revenue |\n",
    "|:-----------------|----------:|\n",
    "| bhphotovideo.com |    680478 |\n",
    "| Walmart.com      |    156398 |\n",
    "| Beach Camera     |    109863 |\n",
    "| The Pixel Hub    |     19190 |\n",
    "| Focus Camera     |     17271 |\n",
    "| Alto Music       |     11514 |"
   ]
  },
  {
   "cell_type": "markdown",
   "metadata": {},
   "source": [
    "Visualize the result in the most appropriate style !"
   ]
  },
  {
   "cell_type": "code",
   "execution_count": 140,
   "metadata": {},
   "outputs": [],
   "source": [
    "## Code for visualization\n"
   ]
  },
  {
   "cell_type": "markdown",
   "metadata": {},
   "source": [
    "### QUESTION 2"
   ]
  },
  {
   "cell_type": "markdown",
   "metadata": {},
   "source": [
    "What is Bestbuy strong and weak against, compared to other merchant in the data? \n",
    "\n",
    "In order to asnwer this question I've created a guide to answer (There exist another way to find the answer, too)"
   ]
  },
  {
   "cell_type": "code",
   "execution_count": 160,
   "metadata": {},
   "outputs": [],
   "source": [
    "# subset only bestbuy observations\n",
    "bestbuy = df[df['merchant'] == 'Bestbuy.com']"
   ]
  },
  {
   "cell_type": "code",
   "execution_count": 174,
   "metadata": {},
   "outputs": [
    {
     "data": {
      "text/plain": [
       "<matplotlib.axes._subplots.AxesSubplot at 0x121ad2b50>"
      ]
     },
     "execution_count": 174,
     "metadata": {},
     "output_type": "execute_result"
    },
    {
     "data": {
      "image/png": "[encoded data removed]",
      "text/plain": [
       "<Figure size 432x288 with 1 Axes>"
      ]
     },
     "metadata": {
      "needs_background": "light"
     },
     "output_type": "display_data"
    }
   ],
   "source": [
    "# plotting the bestbuy market basket\n",
    "bestbuy.groupby('categories').agg({'revenue' : 'sum'}).plot.bar(stacked=True, legend=False)"
   ]
  },
  {
   "cell_type": "markdown",
   "metadata": {},
   "source": [
    "Using `non_bestbuy`, use aggregation table to create table like this and save it as `non_bestbuy_agg`: \n",
    "\n",
    "Notes: Each values is representation of the sum of revenue for each categories and merchant\n",
    "\n",
    "\n",
    "| categories                |   Alto Music |   Beach Camera |   Focus Camera |   The Pixel Hub |   Walmart.com |   bhphotovideo.com |\n",
    "|:--------------------------|-------------:|---------------:|---------------:|----------------:|--------------:|-------------------:|\n",
    "| Accessories & Supplies    |          nan |          nan   |         nan    |          nan    |       2398.75 |            1909.86 |\n",
    "| Camera & Photo            |          nan |        11034.2 |        8635.5  |        18710.2  |       3838    |          196148    |\n",
    "| Car & Vehicle Electronics |          nan |          nan   |         nan    |          nan    |       7676    |             nan    |\n",
    "| Computers & Accessories   |          nan |         1919   |         nan    |          479.75 |      16791.2  |           85108.9  |\n",
    "| Headphones                |        11514 |         8635.5 |        6236.75 |          nan    |       3838    |           23343.5  |\n",
    "| Home Audio                |          nan |         6716.5 |        1919    |          nan    |      12953.2  |           82407.1  |\n",
    "| Portable Audio & Video    |          nan |          nan   |         nan    |          nan    |        nan    |            5235.95 |\n",
    "| TV & Video                |          nan |        81557.5 |         479.75 |          nan    |     108903    |          286325    |\n",
    "\n",
    "\n",
    "<!--\n",
    "\n",
    "non_bestbuy_agg = non_bestbuy.pivot_table(\n",
    "    index='categories',\n",
    "    columns='merchant',\n",
    "    values='revenue', \n",
    "    aggfunc='sum'\n",
    ")\n",
    "\n",
    "-->\n"
   ]
  },
  {
   "cell_type": "code",
   "execution_count": 178,
   "metadata": {},
   "outputs": [],
   "source": [
    "non_bestbuy_agg = non_bestbuy.pivot_table(\n",
    "    index='categories',\n",
    "    columns='merchant',\n",
    "    values='revenue', \n",
    "    aggfunc='sum'\n",
    ")\n"
   ]
  },
  {
   "cell_type": "markdown",
   "metadata": {},
   "source": [
    "Plot the `non_bestbuy_agg` using the following code and try to compare the distribution with Bestbuy"
   ]
  },
  {
   "cell_type": "code",
   "execution_count": 179,
   "metadata": {},
   "outputs": [
    {
     "data": {
      "text/plain": [
       "<matplotlib.axes._subplots.AxesSubplot at 0x1227f4700>"
      ]
     },
     "execution_count": 179,
     "metadata": {},
     "output_type": "execute_result"
    },
    {
     "data": {
      "image/png": "[encoded data removed]",
      "text/plain": [
       "<Figure size 432x288 with 1 Axes>"
      ]
     },
     "metadata": {
      "needs_background": "light"
     },
     "output_type": "display_data"
    }
   ],
   "source": [
    "non_bestbuy_agg.plot.bar(stacked=True, legend=False)"
   ]
  },
  {
   "cell_type": "markdown",
   "metadata": {},
   "source": [
    "### QUESTION 3"
   ]
  },
  {
   "cell_type": "markdown",
   "metadata": {},
   "source": [
    "What product contributes the most to the total revenue for each categories in Bestbuy ? "
   ]
  }
 ],
 "metadata": {
  "kernelspec": {
   "display_name": "Python 3",
   "language": "python",
   "name": "python3"
  },
  "language_info": {
   "codemirror_mode": {
    "name": "ipython",
    "version": 3
   },
   "file_extension": ".py",
   "mimetype": "text/x-python",
   "name": "python",
   "nbconvert_exporter": "python",
   "pygments_lexer": "ipython3",
   "version": "3.8.1"
  },
  "toc": {
   "base_numbering": 1,
   "nav_menu": {},
   "number_sections": true,
   "sideBar": true,
   "skip_h1_title": false,
   "title_cell": "Table of Contents",
   "title_sidebar": "Contents",
   "toc_cell": false,
   "toc_position": {},
   "toc_section_display": true,
   "toc_window_display": false
  }
 },
 "nbformat": 4,
 "nbformat_minor": 4
}
