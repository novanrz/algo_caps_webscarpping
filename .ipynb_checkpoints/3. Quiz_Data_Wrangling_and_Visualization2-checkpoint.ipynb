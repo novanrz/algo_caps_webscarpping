{
 "cells": [
  {
   "cell_type": "code",
   "execution_count": 20,
   "metadata": {},
   "outputs": [],
   "source": [
    "import pandas as pd\n",
    "import matplotlib as plt"
   ]
  },
  {
   "cell_type": "markdown",
   "metadata": {},
   "source": [
    "# Graded Assignment\n",
    "\n",
    "## Data Preparation\n",
    "\n",
    "The data we're going to use is the invoice summary of a transaction data of an online retail shop provided from UCI Machine Learning [repository](https://archive.ics.uci.edu/ml/datasets/online+retail). All the transactions occurring between end of 2010 to end of 2011 for a UK-based and registered non-store online retail:\n",
    "\n",
    "- `InvoiceNo`: unique invoice ID\n",
    "- `UniqueItem`: number of unique item bought per transaction/invoice\n",
    "- `CustomerID`: customer identification\n",
    "- `Country`: customer's address country\n",
    "- `InvoiceDate`: date of transaction"
   ]
  },
  {
   "cell_type": "code",
   "execution_count": 163,
   "metadata": {
    "scrolled": true
   },
   "outputs": [
    {
     "data": {
      "text/html": [
       "<div>\n",
       "<style scoped>\n",
       "    .dataframe tbody tr th:only-of-type {\n",
       "        vertical-align: middle;\n",
       "    }\n",
       "\n",
       "    .dataframe tbody tr th {\n",
       "        vertical-align: top;\n",
       "    }\n",
       "\n",
       "    .dataframe thead th {\n",
       "        text-align: right;\n",
       "    }\n",
       "</style>\n",
       "<table border=\"1\" class=\"dataframe\">\n",
       "  <thead>\n",
       "    <tr style=\"text-align: right;\">\n",
       "      <th></th>\n",
       "      <th>UniqueItem</th>\n",
       "      <th>TotalPrice</th>\n",
       "      <th>CustomerID</th>\n",
       "      <th>Country</th>\n",
       "      <th>InvoiceDate</th>\n",
       "    </tr>\n",
       "    <tr>\n",
       "      <th>InvoiceNo</th>\n",
       "      <th></th>\n",
       "      <th></th>\n",
       "      <th></th>\n",
       "      <th></th>\n",
       "      <th></th>\n",
       "    </tr>\n",
       "  </thead>\n",
       "  <tbody>\n",
       "    <tr>\n",
       "      <th>536365</th>\n",
       "      <td>7</td>\n",
       "      <td>139.12</td>\n",
       "      <td>17850.0</td>\n",
       "      <td>United Kingdom</td>\n",
       "      <td>2010-12-01 08:26:00</td>\n",
       "    </tr>\n",
       "    <tr>\n",
       "      <th>536366</th>\n",
       "      <td>2</td>\n",
       "      <td>22.20</td>\n",
       "      <td>17850.0</td>\n",
       "      <td>United Kingdom</td>\n",
       "      <td>2010-12-01 08:28:00</td>\n",
       "    </tr>\n",
       "    <tr>\n",
       "      <th>536367</th>\n",
       "      <td>12</td>\n",
       "      <td>278.73</td>\n",
       "      <td>13047.0</td>\n",
       "      <td>United Kingdom</td>\n",
       "      <td>2010-12-01 08:34:00</td>\n",
       "    </tr>\n",
       "    <tr>\n",
       "      <th>536368</th>\n",
       "      <td>4</td>\n",
       "      <td>70.05</td>\n",
       "      <td>13047.0</td>\n",
       "      <td>United Kingdom</td>\n",
       "      <td>2010-12-01 08:34:00</td>\n",
       "    </tr>\n",
       "    <tr>\n",
       "      <th>536369</th>\n",
       "      <td>1</td>\n",
       "      <td>17.85</td>\n",
       "      <td>13047.0</td>\n",
       "      <td>United Kingdom</td>\n",
       "      <td>2010-12-01 08:35:00</td>\n",
       "    </tr>\n",
       "  </tbody>\n",
       "</table>\n",
       "</div>"
      ],
      "text/plain": [
       "           UniqueItem  TotalPrice  CustomerID         Country  \\\n",
       "InvoiceNo                                                       \n",
       "536365              7      139.12     17850.0  United Kingdom   \n",
       "536366              2       22.20     17850.0  United Kingdom   \n",
       "536367             12      278.73     13047.0  United Kingdom   \n",
       "536368              4       70.05     13047.0  United Kingdom   \n",
       "536369              1       17.85     13047.0  United Kingdom   \n",
       "\n",
       "                   InvoiceDate  \n",
       "InvoiceNo                       \n",
       "536365     2010-12-01 08:26:00  \n",
       "536366     2010-12-01 08:28:00  \n",
       "536367     2010-12-01 08:34:00  \n",
       "536368     2010-12-01 08:34:00  \n",
       "536369     2010-12-01 08:35:00  "
      ]
     },
     "execution_count": 163,
     "metadata": {},
     "output_type": "execute_result"
    }
   ],
   "source": [
    "invoice = pd.read_csv('data_input/retail_invoice.csv',index_col='InvoiceNo')\n",
    "invoice.head()"
   ]
  },
  {
   "cell_type": "markdown",
   "metadata": {},
   "source": [
    "Before you go any further, check the data `dtypes` and make sure all of our columns have stored in the correct data type!"
   ]
  },
  {
   "cell_type": "code",
   "execution_count": 203,
   "metadata": {},
   "outputs": [],
   "source": [
    "## Your code here\n",
    "\n"
   ]
  },
  {
   "cell_type": "markdown",
   "metadata": {},
   "source": [
    "The company is planning for expansion and you were asked to observe their overseas market. Using any subsetting method you've learned, subset `invoice` by `Country` to get only **transactions from the countries outside the United Kingdom** and name it **`invoice_int`**!"
   ]
  },
  {
   "cell_type": "code",
   "execution_count": 1,
   "metadata": {},
   "outputs": [],
   "source": [
    "## Your code here\n",
    "\n"
   ]
  },
  {
   "cell_type": "markdown",
   "metadata": {},
   "source": [
    "## Data Wrangling & Visualization\n",
    "\n",
    "**Task 1**:  \n",
    "Using the `invoice_int` data, create a bar chart which shows the company **top 5** largest overseas market by **total** revenue (`TotalPrice`)!\n",
    "\n",
    "*Hint*:\n",
    "- Perform a group by aggregation to get the total (`sum`) revenue (`TotalPrice`) by each country and subset only top 5 countries with the highest value.\n",
    "- Pair the dataframe with `.plot()` to get the barchart."
   ]
  },
  {
   "cell_type": "code",
   "execution_count": 213,
   "metadata": {},
   "outputs": [],
   "source": [
    "## Your code here\n",
    "\n",
    "\n"
   ]
  },
  {
   "cell_type": "markdown",
   "metadata": {},
   "source": [
    "1. When creating a bar chart, we should also consider what order in which we will plot the bars. Sorting the bars by the right order reduce the burden on the reader to make the comparisons. What ordering do you think the bars within the *Task 1* barchart should be presented?\n",
    "    - [ ] by Country: `sort_values('Country', ascending = False).plot(kind='bar')`\n",
    "    - [ ] by Country: `sort_values('Country').plot(kind='barh')`\n",
    "    - [ ] by Value: `sort_values('TotalPrice', ascending=False).plot(kind='bar')`\n",
    "    - [ ] by Value: `sort_values('TotalPrice').plot(kind='barh')`\n",
    "\n",
    "2. From the chart you just created, which of the following is **not** among the top 5 largest market outside the United Kingdom?\n",
    "    - [ ] Netherland\n",
    "    - [ ] EIRE\n",
    "    - [ ] Germany\n",
    "    - [ ] Spain "
   ]
  },
  {
   "cell_type": "markdown",
   "metadata": {},
   "source": [
    "**Task 2**:  \n",
    "A common way to inspecting data statistically is by using boxplot, a handy visualization tools that provide five number summary for your data. \n",
    "\n",
    "The boxplot below compares the monthly summary of each overseas market total revenue;\n",
    "- Each data point represents the country total revenue (`TotalPrice`)\n",
    "- The x and y axis represents the monthly period and total monthly revenue respectively.\n",
    "\n",
    "![](assets/task2.png)\n",
    "\n",
    "3. From the boxplot above, which of the following statements is **TRUE**?\n",
    "    - [ ] The highest market revenue in January 2011 was around 18,000 USD\n",
    "    - [ ] In 2011, the total monthly revenue in February was higher than March\n",
    "    - [ ] The median revenue appeared to be highest in May 2011.\n",
    "    - [ ] In 2011, there were more countries that happen to be outliers in April than June.\n",
    "    \n",
    "    \n",
    "4. Try to recreate the boxplot above by fill in the blank codes:\n",
    "\n",
    "```\n",
    "invoice_int['InvoiceMonth'] = invoice_int['InvoiceDate'].dt.to_period('M')\n",
    "\n",
    "invoice_monthly = invoice_int.\\\n",
    "groupby(_______).\\\n",
    "agg({'TotalPrice': 'sum'})\n",
    "\n",
    "invoice_monthly.\\\n",
    "boxplot(column = _______, by=_______)\n",
    "```\n",
    "   - [ ] `['Country']`, `'TotalPrice'`, `'Country'`\n",
    "   - [ ] `['InvoiceMonth']`, `'TotalPrice'`, `'InvoiceMonth'`\n",
    "   - [ ] `['Country','InvoiceMonth']`, `'TotalPrice'`, `'InvoiceMonth'`\n",
    "   - [ ] `['InvoiceMonth','Country']`, `'InvoiceMonth'`, `'TotalPrice'`"
   ]
  },
  {
   "cell_type": "code",
   "execution_count": 211,
   "metadata": {},
   "outputs": [],
   "source": [
    "## Your code here\n",
    "\n",
    "\n"
   ]
  },
  {
   "cell_type": "markdown",
   "metadata": {},
   "source": [
    "**Task 3**:\n",
    "\n",
    "Based on the previous boxplot, we found that in June 2011, there were 3 countries with unusually high `TotalPrice`. By fill in the blank codes below, you could identify those outliers by subsetting `invoice_monthly` with the maximum value/upper whisker of the boxplot:\n",
    "\n",
    "```\n",
    "june_invoice = invoice_monthly.xs(key = _______, level= _______)\n",
    "june_outliers = june_invoice[june_invoice['TotalPrice'] > 13000]\n",
    "\n",
    "june_outliers\n",
    "```\n",
    "\n",
    "5. Which countries are **NOT** included in `june_outliers` table/dataframe?\n",
    "   - [ ] Germany\n",
    "   - [ ] France\n",
    "   - [ ] Australia\n",
    "   - [ ] EIRE"
   ]
  },
  {
   "cell_type": "code",
   "execution_count": 210,
   "metadata": {
    "scrolled": false
   },
   "outputs": [],
   "source": [
    "## Your code here:\n",
    "\n",
    "\n"
   ]
  },
  {
   "cell_type": "markdown",
   "metadata": {},
   "source": [
    "6. Copy down the code below to create a dataframe of quarterly summary of total revenue from the countries in `june_outliers`: \n",
    "```\n",
    "invoice_int['Quarter'] = invoice_int['InvoiceDate'].dt.to_period('Q')\n",
    "invoice_topq = invoice_int.groupby(['Country','Quarter']).\\\n",
    "                 agg({'TotalPrice' : 'sum'}).\\\n",
    "                 loc[june_outliers.axes[0],]\n",
    "invoice_topq\n",
    "```\n",
    "Which of the following code shows the *most efficient* **grouped bar chart** to compare **quarterly revenue growth** in `invoice_topq`?    \n",
    "    - [ ] `invoice_topq.plot(kind='bar')`\n",
    "    - [ ] `invoice_topq.unstack().plot(kind = 'bar',stacked=True)`\n",
    "    - [ ] `invoice_topq.unstack(level = 'Country').plot(kind='barh')`\n",
    "    - [ ] `invoice_topq.unstack(level = 'Country').plot(kind='bar')`"
   ]
  },
  {
   "cell_type": "code",
   "execution_count": 209,
   "metadata": {},
   "outputs": [],
   "source": [
    "## Your code here:\n",
    "\n",
    "\n"
   ]
  }
 ],
 "metadata": {
  "kernelspec": {
   "display_name": "Python 3",
   "language": "python",
   "name": "python3"
  },
  "language_info": {
   "codemirror_mode": {
    "name": "ipython",
    "version": 3
   },
   "file_extension": ".py",
   "mimetype": "text/x-python",
   "name": "python",
   "nbconvert_exporter": "python",
   "pygments_lexer": "ipython3",
   "version": "3.7.6"
  },
  "latex_envs": {
   "LaTeX_envs_menu_present": true,
   "autoclose": false,
   "autocomplete": true,
   "bibliofile": "biblio.bib",
   "cite_by": "apalike",
   "current_citInitial": 1,
   "eqLabelWithNumbers": true,
   "eqNumInitial": 1,
   "hotkeys": {
    "equation": "Ctrl-E",
    "itemize": "Ctrl-I"
   },
   "labels_anchors": false,
   "latex_user_defs": false,
   "report_style_numbering": false,
   "user_envs_cfg": false
  },
  "toc": {
   "base_numbering": 1,
   "nav_menu": {},
   "number_sections": true,
   "sideBar": true,
   "skip_h1_title": false,
   "title_cell": "Table of Contents",
   "title_sidebar": "Contents",
   "toc_cell": false,
   "toc_position": {},
   "toc_section_display": true,
   "toc_window_display": false
  }
 },
 "nbformat": 4,
 "nbformat_minor": 2
}
